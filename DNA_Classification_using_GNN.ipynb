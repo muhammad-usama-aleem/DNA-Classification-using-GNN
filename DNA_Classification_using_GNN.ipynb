{
  "nbformat": 4,
  "nbformat_minor": 0,
  "metadata": {
    "colab": {
      "name": "DNA Classification using GNN.ipynb",
      "provenance": [],
      "collapsed_sections": [],
      "include_colab_link": true
    },
    "kernelspec": {
      "name": "python3",
      "display_name": "Python 3"
    },
    "language_info": {
      "name": "python"
    },
    "accelerator": "GPU"
  },
  "cells": [
    {
      "cell_type": "markdown",
      "metadata": {
        "id": "view-in-github",
        "colab_type": "text"
      },
      "source": [
        "<a href=\"https://colab.research.google.com/github/muhammad-usama-aleem/DNA-Classification-using-GNN/blob/main/DNA_Classification_using_GNN.ipynb\" target=\"_parent\"><img src=\"https://colab.research.google.com/assets/colab-badge.svg\" alt=\"Open In Colab\"/></a>"
      ]
    },
    {
      "cell_type": "code",
      "source": [
        "# Install required packages.\n",
        "!pip install -q torch-scatter -f https://pytorch-geometric.com/whl/torch-1.10.0+cu113.html\n",
        "!pip install -q torch-sparse -f https://pytorch-geometric.com/whl/torch-1.10.0+cu113.html\n",
        "!pip install -q git+https://github.com/rusty1s/pytorch_geometric.git"
      ],
      "metadata": {
        "id": "PWUqK7i-blEM"
      },
      "execution_count": 11,
      "outputs": []
    },
    {
      "cell_type": "code",
      "source": [
        "import os.path as osp\n",
        "\n",
        "import torch\n",
        "import torch.nn.functional as F\n",
        "from sklearn.model_selection import StratifiedKFold\n",
        "\n",
        "from torch_geometric.datasets import Planetoid\n",
        "from torch_geometric.nn import DNAConv"
      ],
      "metadata": {
        "id": "dqd6im8-lGaw"
      },
      "execution_count": 12,
      "outputs": []
    },
    {
      "cell_type": "code",
      "source": [
        "from torch_geometric.transforms import NormalizeFeatures\n",
        "\n",
        "dataset = Planetoid(root='data/Planetoid', name='Cora', transform=NormalizeFeatures())\n",
        "\n",
        "# dataset = 'Cora'\n",
        "# path = osp.join(osp.dirname(osp.realpath(__file__)), '..', 'data', dataset)\n",
        "# dataset = Planetoid(path, dataset)"
      ],
      "metadata": {
        "id": "FTQTDx2jlGXh"
      },
      "execution_count": 13,
      "outputs": []
    },
    {
      "cell_type": "code",
      "source": [
        "print()\n",
        "print(f'Dataset: {dataset}:')\n",
        "print('==================')\n",
        "print(f'Number of graphs: {len(dataset)}')\n",
        "print(f'Number of features: {dataset.num_features}')\n",
        "print(f'Number of classes: {dataset.num_classes}')\n",
        "\n",
        "data = dataset[0]  # Get the first graph object.\n",
        "\n",
        "print()\n",
        "print(data)\n",
        "print('===============================================================================================================')\n",
        "\n",
        "# Gather some statistics about the graph.\n",
        "print(f'Number of nodes: {data.num_nodes}')\n",
        "print(f'Number of edges: {data.num_edges}')\n",
        "print(f'Average node degree: {data.num_edges / data.num_nodes:.2f}')\n",
        "print(f'Number of training nodes: {data.train_mask.sum()}')\n",
        "print(f'Training node label rate: {int(data.train_mask.sum()) / data.num_nodes:.3f}')\n",
        "print(f'Has isolated nodes: {data.has_isolated_nodes()}')\n",
        "print(f'Has self-loops: {data.has_self_loops()}')\n",
        "print(f'Is undirected: {data.is_undirected()}')"
      ],
      "metadata": {
        "colab": {
          "base_uri": "https://localhost:8080/"
        },
        "id": "Z8OD1T6-ppgV",
        "outputId": "91ed7c1f-5a65-4913-bc75-d4085c13da18"
      },
      "execution_count": 14,
      "outputs": [
        {
          "output_type": "stream",
          "name": "stdout",
          "text": [
            "\n",
            "Dataset: Cora():\n",
            "==================\n",
            "Number of graphs: 1\n",
            "Number of features: 1433\n",
            "Number of classes: 7\n",
            "\n",
            "Data(x=[2708, 1433], edge_index=[2, 10556], y=[2708], train_mask=[2708], val_mask=[2708], test_mask=[2708])\n",
            "===============================================================================================================\n",
            "Number of nodes: 2708\n",
            "Number of edges: 10556\n",
            "Average node degree: 3.90\n",
            "Number of training nodes: 140\n",
            "Training node label rate: 0.052\n",
            "Has isolated nodes: False\n",
            "Has self-loops: False\n",
            "Is undirected: True\n"
          ]
        }
      ]
    },
    {
      "cell_type": "code",
      "source": [
        "data.train_mask = data.val_mask = data.test_mask = None"
      ],
      "metadata": {
        "id": "Gt0Jow1nppdE"
      },
      "execution_count": 15,
      "outputs": []
    },
    {
      "cell_type": "code",
      "source": [
        "def gen_uniform_20_20_60_split(data):\n",
        "    skf = StratifiedKFold(5, shuffle=True, random_state=55)\n",
        "    idx = [torch.from_numpy(i) for _, i in skf.split(data.y, data.y)]\n",
        "    data.train_idx = idx[0].to(torch.long)\n",
        "    data.val_idx = idx[1].to(torch.long)\n",
        "    data.test_idx = torch.cat(idx[2:], dim=0).to(torch.long)\n",
        "    return data\n",
        "\n",
        "\n",
        "data = gen_uniform_20_20_60_split(data)"
      ],
      "metadata": {
        "id": "vxUwpnygppay"
      },
      "execution_count": 16,
      "outputs": []
    },
    {
      "cell_type": "code",
      "source": [
        "print(data)"
      ],
      "metadata": {
        "colab": {
          "base_uri": "https://localhost:8080/"
        },
        "id": "8eBe2zgPppZF",
        "outputId": "805b9255-2900-40a5-b0a9-a1362b880d22"
      },
      "execution_count": 17,
      "outputs": [
        {
          "output_type": "stream",
          "name": "stdout",
          "text": [
            "Data(x=[2708, 1433], edge_index=[2, 10556], y=[2708], train_idx=[542], val_idx=[542], test_idx=[1624])\n"
          ]
        }
      ]
    },
    {
      "cell_type": "code",
      "source": [
        "class Net(torch.nn.Module):\n",
        "    def __init__(self, in_channels, hidden_channels, out_channels, num_layers,\n",
        "                 heads=1, groups=1):\n",
        "        super().__init__()\n",
        "        self.hidden_channels = hidden_channels\n",
        "        self.lin1 = torch.nn.Linear(in_channels, hidden_channels)\n",
        "        self.convs = torch.nn.ModuleList()\n",
        "        for i in range(num_layers):\n",
        "            self.convs.append(\n",
        "                DNAConv(hidden_channels, heads, groups, dropout=0.8,\n",
        "                        cached=True))\n",
        "        self.lin2 = torch.nn.Linear(hidden_channels, out_channels)\n",
        "\n",
        "    def reset_parameters(self):\n",
        "        self.lin1.reset_parameters()\n",
        "        for conv in self.convs:\n",
        "            conv.reset_parameters()\n",
        "        self.lin2.reset_parameters()\n",
        "\n",
        "    def forward(self, x, edge_index):\n",
        "        x = F.relu(self.lin1(x))\n",
        "        x = F.dropout(x, p=0.5, training=self.training)\n",
        "        x_all = x.view(-1, 1, self.hidden_channels)\n",
        "        for conv in self.convs:\n",
        "            x = F.relu(conv(x_all, edge_index))\n",
        "            x = x.view(-1, 1, self.hidden_channels)\n",
        "            x_all = torch.cat([x_all, x], dim=1)\n",
        "        x = x_all[:, -1]\n",
        "        x = F.dropout(x, p=0.5, training=self.training)\n",
        "        x = self.lin2(x)\n",
        "        return torch.log_softmax(x, dim=1)"
      ],
      "metadata": {
        "id": "3nO5S3-NqpGF"
      },
      "execution_count": 18,
      "outputs": []
    },
    {
      "cell_type": "code",
      "source": [
        "device = torch.device('cuda' if torch.cuda.is_available() else 'cpu')\n",
        "print(device)\n",
        "model = Net(in_channels=dataset.num_features, hidden_channels=128,\n",
        "            out_channels=dataset.num_classes, num_layers=5, heads=8, groups=16)\n",
        "model, data = model.to(device), data.to(device)\n",
        "optimizer = torch.optim.Adam(model.parameters(), lr=0.005, weight_decay=0.0005)\n",
        "criterion = torch.nn.CrossEntropyLoss()"
      ],
      "metadata": {
        "colab": {
          "base_uri": "https://localhost:8080/"
        },
        "id": "4oMfCrEdqpCr",
        "outputId": "047925e8-631f-4fce-8389-0b105fd66852"
      },
      "execution_count": 32,
      "outputs": [
        {
          "output_type": "stream",
          "name": "stdout",
          "text": [
            "cuda\n"
          ]
        }
      ]
    },
    {
      "cell_type": "code",
      "source": [
        "def train():\n",
        "    model.train()\n",
        "    optimizer.zero_grad()\n",
        "    out = model(data.x, data.edge_index)\n",
        "    loss = F.nll_loss(out[data.train_idx], data.y[data.train_idx])\n",
        "    loss.backward()\n",
        "    optimizer.step()\n",
        "\n",
        "\n",
        "def test():\n",
        "    model.eval()\n",
        "    logits, accs = model(data.x, data.edge_index), []\n",
        "    for _, idx in data('train_idx', 'val_idx', 'test_idx'):\n",
        "        pred = logits[idx].max(1)[1]\n",
        "        acc = pred.eq(data.y[idx]).sum().item() / idx.numel()\n",
        "        accs.append(acc)\n",
        "    return accs"
      ],
      "metadata": {
        "id": "QFIvN2byqpAq"
      },
      "execution_count": 35,
      "outputs": []
    },
    {
      "cell_type": "code",
      "source": [
        "best_val_acc = test_acc = 0\n",
        "for epoch in range(1, 201):\n",
        "    train()\n",
        "    train_acc, val_acc, tmp_test_acc = test()\n",
        "    if val_acc > best_val_acc:\n",
        "        best_val_acc = val_acc\n",
        "        test_acc = tmp_test_acc\n",
        "    print(f'Epoch: {epoch:03d}, Train: {train_acc:.4f}, '\n",
        "          f'Val: {best_val_acc:.4f}, Test: {test_acc:.4f}')"
      ],
      "metadata": {
        "colab": {
          "base_uri": "https://localhost:8080/"
        },
        "id": "_jZ2Ogt3zGbV",
        "outputId": "4f577fa2-f8a6-4603-f528-a40ed621f12f"
      },
      "execution_count": 38,
      "outputs": [
        {
          "output_type": "stream",
          "name": "stdout",
          "text": [
            "Epoch: 001, Train: 0.5664, Val: 0.5148, Test: 0.4932\n",
            "Epoch: 002, Train: 0.5572, Val: 0.5148, Test: 0.4932\n",
            "Epoch: 003, Train: 0.5646, Val: 0.5148, Test: 0.4932\n",
            "Epoch: 004, Train: 0.5756, Val: 0.5148, Test: 0.4932\n",
            "Epoch: 005, Train: 0.5941, Val: 0.5424, Test: 0.5086\n",
            "Epoch: 006, Train: 0.6070, Val: 0.5664, Test: 0.5283\n",
            "Epoch: 007, Train: 0.6199, Val: 0.5720, Test: 0.5320\n",
            "Epoch: 008, Train: 0.6236, Val: 0.5738, Test: 0.5363\n",
            "Epoch: 009, Train: 0.6218, Val: 0.5775, Test: 0.5351\n",
            "Epoch: 010, Train: 0.6199, Val: 0.5775, Test: 0.5351\n",
            "Epoch: 011, Train: 0.6144, Val: 0.5775, Test: 0.5351\n",
            "Epoch: 012, Train: 0.6070, Val: 0.5775, Test: 0.5351\n",
            "Epoch: 013, Train: 0.6070, Val: 0.5775, Test: 0.5351\n",
            "Epoch: 014, Train: 0.6015, Val: 0.5775, Test: 0.5351\n",
            "Epoch: 015, Train: 0.5923, Val: 0.5775, Test: 0.5351\n",
            "Epoch: 016, Train: 0.5849, Val: 0.5775, Test: 0.5351\n",
            "Epoch: 017, Train: 0.5793, Val: 0.5775, Test: 0.5351\n",
            "Epoch: 018, Train: 0.5627, Val: 0.5775, Test: 0.5351\n",
            "Epoch: 019, Train: 0.5738, Val: 0.5775, Test: 0.5351\n",
            "Epoch: 020, Train: 0.5849, Val: 0.5775, Test: 0.5351\n",
            "Epoch: 021, Train: 0.5978, Val: 0.5775, Test: 0.5351\n",
            "Epoch: 022, Train: 0.6052, Val: 0.5775, Test: 0.5351\n",
            "Epoch: 023, Train: 0.5996, Val: 0.5775, Test: 0.5351\n",
            "Epoch: 024, Train: 0.5904, Val: 0.5775, Test: 0.5351\n",
            "Epoch: 025, Train: 0.5738, Val: 0.5775, Test: 0.5351\n",
            "Epoch: 026, Train: 0.5775, Val: 0.5775, Test: 0.5351\n",
            "Epoch: 027, Train: 0.5959, Val: 0.5775, Test: 0.5351\n",
            "Epoch: 028, Train: 0.6089, Val: 0.5775, Test: 0.5351\n",
            "Epoch: 029, Train: 0.6052, Val: 0.5775, Test: 0.5351\n",
            "Epoch: 030, Train: 0.6070, Val: 0.5775, Test: 0.5351\n",
            "Epoch: 031, Train: 0.6070, Val: 0.5775, Test: 0.5351\n",
            "Epoch: 032, Train: 0.5941, Val: 0.5775, Test: 0.5351\n",
            "Epoch: 033, Train: 0.5886, Val: 0.5775, Test: 0.5351\n",
            "Epoch: 034, Train: 0.6125, Val: 0.5775, Test: 0.5351\n",
            "Epoch: 035, Train: 0.6255, Val: 0.5812, Test: 0.5308\n",
            "Epoch: 036, Train: 0.6273, Val: 0.5812, Test: 0.5308\n",
            "Epoch: 037, Train: 0.6365, Val: 0.5996, Test: 0.5431\n",
            "Epoch: 038, Train: 0.6365, Val: 0.5996, Test: 0.5431\n",
            "Epoch: 039, Train: 0.6144, Val: 0.5996, Test: 0.5431\n",
            "Epoch: 040, Train: 0.6328, Val: 0.5996, Test: 0.5431\n",
            "Epoch: 041, Train: 0.6624, Val: 0.6033, Test: 0.5603\n",
            "Epoch: 042, Train: 0.6605, Val: 0.6107, Test: 0.5579\n",
            "Epoch: 043, Train: 0.6605, Val: 0.6125, Test: 0.5634\n",
            "Epoch: 044, Train: 0.6642, Val: 0.6125, Test: 0.5634\n",
            "Epoch: 045, Train: 0.6568, Val: 0.6125, Test: 0.5634\n",
            "Epoch: 046, Train: 0.6642, Val: 0.6125, Test: 0.5634\n",
            "Epoch: 047, Train: 0.6661, Val: 0.6181, Test: 0.5665\n",
            "Epoch: 048, Train: 0.6587, Val: 0.6181, Test: 0.5665\n",
            "Epoch: 049, Train: 0.6476, Val: 0.6181, Test: 0.5665\n",
            "Epoch: 050, Train: 0.6494, Val: 0.6181, Test: 0.5665\n",
            "Epoch: 051, Train: 0.6661, Val: 0.6218, Test: 0.5714\n",
            "Epoch: 052, Train: 0.6421, Val: 0.6218, Test: 0.5714\n",
            "Epoch: 053, Train: 0.5959, Val: 0.6218, Test: 0.5714\n",
            "Epoch: 054, Train: 0.6384, Val: 0.6218, Test: 0.5714\n",
            "Epoch: 055, Train: 0.6458, Val: 0.6218, Test: 0.5714\n",
            "Epoch: 056, Train: 0.6365, Val: 0.6218, Test: 0.5714\n",
            "Epoch: 057, Train: 0.6310, Val: 0.6218, Test: 0.5714\n",
            "Epoch: 058, Train: 0.6458, Val: 0.6218, Test: 0.5714\n",
            "Epoch: 059, Train: 0.6827, Val: 0.6292, Test: 0.5850\n",
            "Epoch: 060, Train: 0.6624, Val: 0.6292, Test: 0.5850\n",
            "Epoch: 061, Train: 0.6587, Val: 0.6292, Test: 0.5850\n",
            "Epoch: 062, Train: 0.6716, Val: 0.6310, Test: 0.5991\n",
            "Epoch: 063, Train: 0.6771, Val: 0.6347, Test: 0.6016\n",
            "Epoch: 064, Train: 0.6863, Val: 0.6347, Test: 0.6016\n",
            "Epoch: 065, Train: 0.6624, Val: 0.6347, Test: 0.6016\n",
            "Epoch: 066, Train: 0.6753, Val: 0.6347, Test: 0.6016\n",
            "Epoch: 067, Train: 0.7011, Val: 0.6347, Test: 0.6016\n",
            "Epoch: 068, Train: 0.6937, Val: 0.6421, Test: 0.6127\n",
            "Epoch: 069, Train: 0.6956, Val: 0.6476, Test: 0.6108\n",
            "Epoch: 070, Train: 0.6882, Val: 0.6476, Test: 0.6108\n",
            "Epoch: 071, Train: 0.6974, Val: 0.6494, Test: 0.6065\n",
            "Epoch: 072, Train: 0.6900, Val: 0.6494, Test: 0.6065\n",
            "Epoch: 073, Train: 0.6900, Val: 0.6494, Test: 0.6065\n",
            "Epoch: 074, Train: 0.6993, Val: 0.6494, Test: 0.6065\n",
            "Epoch: 075, Train: 0.6974, Val: 0.6494, Test: 0.6065\n",
            "Epoch: 076, Train: 0.6956, Val: 0.6494, Test: 0.6065\n",
            "Epoch: 077, Train: 0.6900, Val: 0.6494, Test: 0.6065\n",
            "Epoch: 078, Train: 0.6956, Val: 0.6494, Test: 0.6065\n",
            "Epoch: 079, Train: 0.7066, Val: 0.6494, Test: 0.6065\n",
            "Epoch: 080, Train: 0.6845, Val: 0.6494, Test: 0.6065\n",
            "Epoch: 081, Train: 0.6790, Val: 0.6494, Test: 0.6065\n",
            "Epoch: 082, Train: 0.6993, Val: 0.6494, Test: 0.6065\n",
            "Epoch: 083, Train: 0.7159, Val: 0.6494, Test: 0.6065\n",
            "Epoch: 084, Train: 0.6956, Val: 0.6513, Test: 0.6201\n",
            "Epoch: 085, Train: 0.6882, Val: 0.6513, Test: 0.6201\n",
            "Epoch: 086, Train: 0.7085, Val: 0.6568, Test: 0.6225\n",
            "Epoch: 087, Train: 0.7122, Val: 0.6568, Test: 0.6225\n",
            "Epoch: 088, Train: 0.6993, Val: 0.6568, Test: 0.6225\n",
            "Epoch: 089, Train: 0.6974, Val: 0.6568, Test: 0.6225\n",
            "Epoch: 090, Train: 0.7140, Val: 0.6568, Test: 0.6225\n",
            "Epoch: 091, Train: 0.7196, Val: 0.6568, Test: 0.6225\n",
            "Epoch: 092, Train: 0.7232, Val: 0.6568, Test: 0.6225\n",
            "Epoch: 093, Train: 0.7214, Val: 0.6605, Test: 0.6256\n",
            "Epoch: 094, Train: 0.7269, Val: 0.6605, Test: 0.6256\n",
            "Epoch: 095, Train: 0.7362, Val: 0.6605, Test: 0.6256\n",
            "Epoch: 096, Train: 0.7399, Val: 0.6642, Test: 0.6330\n",
            "Epoch: 097, Train: 0.7472, Val: 0.6734, Test: 0.6373\n",
            "Epoch: 098, Train: 0.7417, Val: 0.6734, Test: 0.6373\n",
            "Epoch: 099, Train: 0.7362, Val: 0.6734, Test: 0.6373\n",
            "Epoch: 100, Train: 0.7269, Val: 0.6734, Test: 0.6373\n",
            "Epoch: 101, Train: 0.7269, Val: 0.6734, Test: 0.6373\n",
            "Epoch: 102, Train: 0.7362, Val: 0.6734, Test: 0.6373\n",
            "Epoch: 103, Train: 0.7454, Val: 0.6808, Test: 0.6416\n",
            "Epoch: 104, Train: 0.7528, Val: 0.6919, Test: 0.6429\n",
            "Epoch: 105, Train: 0.7546, Val: 0.6919, Test: 0.6429\n",
            "Epoch: 106, Train: 0.7472, Val: 0.6919, Test: 0.6429\n",
            "Epoch: 107, Train: 0.7454, Val: 0.6919, Test: 0.6429\n",
            "Epoch: 108, Train: 0.7399, Val: 0.6919, Test: 0.6429\n",
            "Epoch: 109, Train: 0.7343, Val: 0.6919, Test: 0.6429\n",
            "Epoch: 110, Train: 0.7343, Val: 0.6919, Test: 0.6429\n",
            "Epoch: 111, Train: 0.7343, Val: 0.6919, Test: 0.6429\n",
            "Epoch: 112, Train: 0.7399, Val: 0.6919, Test: 0.6429\n",
            "Epoch: 113, Train: 0.7509, Val: 0.6919, Test: 0.6429\n",
            "Epoch: 114, Train: 0.7657, Val: 0.7048, Test: 0.6613\n",
            "Epoch: 115, Train: 0.7694, Val: 0.7066, Test: 0.6681\n",
            "Epoch: 116, Train: 0.7638, Val: 0.7066, Test: 0.6681\n",
            "Epoch: 117, Train: 0.7546, Val: 0.7066, Test: 0.6681\n",
            "Epoch: 118, Train: 0.7472, Val: 0.7066, Test: 0.6681\n",
            "Epoch: 119, Train: 0.7472, Val: 0.7066, Test: 0.6681\n",
            "Epoch: 120, Train: 0.7472, Val: 0.7066, Test: 0.6681\n",
            "Epoch: 121, Train: 0.7565, Val: 0.7066, Test: 0.6681\n",
            "Epoch: 122, Train: 0.7601, Val: 0.7066, Test: 0.6681\n",
            "Epoch: 123, Train: 0.7638, Val: 0.7066, Test: 0.6681\n",
            "Epoch: 124, Train: 0.7657, Val: 0.7066, Test: 0.6681\n",
            "Epoch: 125, Train: 0.7694, Val: 0.7066, Test: 0.6681\n",
            "Epoch: 126, Train: 0.7712, Val: 0.7066, Test: 0.6681\n",
            "Epoch: 127, Train: 0.7749, Val: 0.7066, Test: 0.6681\n",
            "Epoch: 128, Train: 0.7749, Val: 0.7066, Test: 0.6681\n",
            "Epoch: 129, Train: 0.7804, Val: 0.7066, Test: 0.6681\n",
            "Epoch: 130, Train: 0.7786, Val: 0.7066, Test: 0.6681\n",
            "Epoch: 131, Train: 0.7768, Val: 0.7066, Test: 0.6681\n",
            "Epoch: 132, Train: 0.7804, Val: 0.7066, Test: 0.6681\n",
            "Epoch: 133, Train: 0.7897, Val: 0.7085, Test: 0.6773\n",
            "Epoch: 134, Train: 0.7878, Val: 0.7103, Test: 0.6835\n",
            "Epoch: 135, Train: 0.7823, Val: 0.7103, Test: 0.6835\n",
            "Epoch: 136, Train: 0.7786, Val: 0.7103, Test: 0.6835\n",
            "Epoch: 137, Train: 0.7786, Val: 0.7103, Test: 0.6835\n",
            "Epoch: 138, Train: 0.7786, Val: 0.7103, Test: 0.6835\n",
            "Epoch: 139, Train: 0.7583, Val: 0.7103, Test: 0.6835\n",
            "Epoch: 140, Train: 0.7509, Val: 0.7103, Test: 0.6835\n",
            "Epoch: 141, Train: 0.7601, Val: 0.7103, Test: 0.6835\n",
            "Epoch: 142, Train: 0.7712, Val: 0.7103, Test: 0.6835\n",
            "Epoch: 143, Train: 0.7768, Val: 0.7103, Test: 0.6835\n",
            "Epoch: 144, Train: 0.7804, Val: 0.7177, Test: 0.6977\n",
            "Epoch: 145, Train: 0.7878, Val: 0.7196, Test: 0.7032\n",
            "Epoch: 146, Train: 0.7804, Val: 0.7214, Test: 0.6890\n",
            "Epoch: 147, Train: 0.7934, Val: 0.7214, Test: 0.6890\n",
            "Epoch: 148, Train: 0.7694, Val: 0.7214, Test: 0.6890\n",
            "Epoch: 149, Train: 0.7620, Val: 0.7214, Test: 0.6890\n",
            "Epoch: 150, Train: 0.7768, Val: 0.7214, Test: 0.6890\n",
            "Epoch: 151, Train: 0.7786, Val: 0.7214, Test: 0.6890\n",
            "Epoch: 152, Train: 0.7675, Val: 0.7214, Test: 0.6890\n",
            "Epoch: 153, Train: 0.7841, Val: 0.7214, Test: 0.6890\n",
            "Epoch: 154, Train: 0.7841, Val: 0.7214, Test: 0.6890\n",
            "Epoch: 155, Train: 0.7915, Val: 0.7214, Test: 0.6890\n",
            "Epoch: 156, Train: 0.7860, Val: 0.7214, Test: 0.6890\n",
            "Epoch: 157, Train: 0.7860, Val: 0.7214, Test: 0.6890\n",
            "Epoch: 158, Train: 0.7860, Val: 0.7214, Test: 0.6890\n",
            "Epoch: 159, Train: 0.7934, Val: 0.7214, Test: 0.6890\n",
            "Epoch: 160, Train: 0.7860, Val: 0.7214, Test: 0.6890\n",
            "Epoch: 161, Train: 0.7823, Val: 0.7214, Test: 0.6890\n",
            "Epoch: 162, Train: 0.7841, Val: 0.7214, Test: 0.6890\n",
            "Epoch: 163, Train: 0.7970, Val: 0.7214, Test: 0.6890\n",
            "Epoch: 164, Train: 0.8155, Val: 0.7232, Test: 0.6940\n",
            "Epoch: 165, Train: 0.8247, Val: 0.7288, Test: 0.7020\n",
            "Epoch: 166, Train: 0.8026, Val: 0.7288, Test: 0.7020\n",
            "Epoch: 167, Train: 0.8026, Val: 0.7288, Test: 0.7020\n",
            "Epoch: 168, Train: 0.8100, Val: 0.7362, Test: 0.7100\n",
            "Epoch: 169, Train: 0.8081, Val: 0.7362, Test: 0.7100\n",
            "Epoch: 170, Train: 0.8044, Val: 0.7362, Test: 0.7100\n",
            "Epoch: 171, Train: 0.8026, Val: 0.7362, Test: 0.7100\n",
            "Epoch: 172, Train: 0.7952, Val: 0.7362, Test: 0.7100\n",
            "Epoch: 173, Train: 0.7989, Val: 0.7362, Test: 0.7100\n",
            "Epoch: 174, Train: 0.8229, Val: 0.7362, Test: 0.7100\n",
            "Epoch: 175, Train: 0.8395, Val: 0.7583, Test: 0.7278\n",
            "Epoch: 176, Train: 0.8376, Val: 0.7712, Test: 0.7321\n",
            "Epoch: 177, Train: 0.8395, Val: 0.7712, Test: 0.7321\n",
            "Epoch: 178, Train: 0.8118, Val: 0.7712, Test: 0.7321\n",
            "Epoch: 179, Train: 0.7897, Val: 0.7712, Test: 0.7321\n",
            "Epoch: 180, Train: 0.7860, Val: 0.7712, Test: 0.7321\n",
            "Epoch: 181, Train: 0.8100, Val: 0.7712, Test: 0.7321\n",
            "Epoch: 182, Train: 0.8284, Val: 0.7712, Test: 0.7321\n",
            "Epoch: 183, Train: 0.8376, Val: 0.7712, Test: 0.7321\n",
            "Epoch: 184, Train: 0.8506, Val: 0.7712, Test: 0.7321\n",
            "Epoch: 185, Train: 0.8487, Val: 0.7712, Test: 0.7321\n",
            "Epoch: 186, Train: 0.8469, Val: 0.7712, Test: 0.7321\n",
            "Epoch: 187, Train: 0.8155, Val: 0.7712, Test: 0.7321\n",
            "Epoch: 188, Train: 0.7860, Val: 0.7712, Test: 0.7321\n",
            "Epoch: 189, Train: 0.7804, Val: 0.7712, Test: 0.7321\n",
            "Epoch: 190, Train: 0.7934, Val: 0.7712, Test: 0.7321\n",
            "Epoch: 191, Train: 0.8321, Val: 0.7712, Test: 0.7321\n",
            "Epoch: 192, Train: 0.8542, Val: 0.7712, Test: 0.7321\n",
            "Epoch: 193, Train: 0.8653, Val: 0.7731, Test: 0.7531\n",
            "Epoch: 194, Train: 0.8635, Val: 0.7731, Test: 0.7531\n",
            "Epoch: 195, Train: 0.8506, Val: 0.7768, Test: 0.7346\n",
            "Epoch: 196, Train: 0.8358, Val: 0.7768, Test: 0.7346\n",
            "Epoch: 197, Train: 0.8339, Val: 0.7768, Test: 0.7346\n",
            "Epoch: 198, Train: 0.8432, Val: 0.7768, Test: 0.7346\n",
            "Epoch: 199, Train: 0.8561, Val: 0.7786, Test: 0.7518\n",
            "Epoch: 200, Train: 0.8635, Val: 0.7786, Test: 0.7518\n"
          ]
        }
      ]
    }
  ]
}